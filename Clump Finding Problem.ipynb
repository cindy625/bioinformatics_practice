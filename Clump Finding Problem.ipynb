{
 "cells": [
  {
   "cell_type": "code",
   "execution_count": 40,
   "metadata": {
    "collapsed": false
   },
   "outputs": [
    {
     "name": "stdout",
     "output_type": "stream",
     "text": [
      "Total: 1904\n"
     ]
    }
   ],
   "source": [
    "from collections import defaultdict\n",
    "\n",
    "with open('E-coli.txt', 'r') as f:\n",
    "    genome = f.read().rstrip()\n",
    "\n",
    "\n",
    "kmer = 9  # Length of the k-mer\n",
    "windowsize = 500  # genome substring length to register clumps in\n",
    "min_clumpsize = 3  # minimum number of repetitions of the k-mer\n",
    "\n",
    "\n",
    "# find substrings at least kmer long that occur at least min_clumpsize\n",
    "# times in a window of windowsize in genome\n",
    "\n",
    "def get_substrings(g, k):\n",
    "    \"\"\"\n",
    "Take the input genome window 'g', and produce a list of unique \n",
    "substrings of length 'k' contained within it. \n",
    "    \"\"\"\n",
    "    substrings = list()\n",
    "\n",
    "    # Start from first character, split into 'k' size chunks\n",
    "    # Move along one character and repeat. No sense carrying on beyond\n",
    "    # a starting point of 'k' since that will be the first iteration again.\n",
    "    for i in range(k):\n",
    "        line = g[i:]\n",
    "        substrings += [line[i:i + k]\n",
    "                       for i in range(0, len(line), k) if i + k <= len(line)]\n",
    "\n",
    "    # Using collections.Counter increases the runtime by about 3 seconds,\n",
    "    # during testing.\n",
    "    results = defaultdict(int)\n",
    "    for s in substrings:\n",
    "        results[s] += 1\n",
    "    return results\n",
    "\n",
    "\n",
    "def find_clumps(genome, kmer, windowsize, clumpsize):\n",
    "    \"\"\"\n",
    "In a given genome, examines each windowsize section for strings of length kmer\n",
    "that occur at least clumpsize times. \n",
    "\n",
    "Input: \n",
    "genome: text string to search\n",
    "kmer:  length of string to search for\n",
    "windowsize: size of the genome section to consider for clumping\n",
    "clumpsize: the kmer length strings must occur at least this many times\n",
    "\n",
    "Returns: a list of the strings that clump\n",
    "    \"\"\"\n",
    "    window = genome[0:windowsize]\n",
    "\n",
    "    # Initialise our counter, because the main algorithm can't start from\n",
    "    # scratch.\n",
    "    patterns = get_substrings(window, kmer)\n",
    "\n",
    "    # Using a dictionary not a list because the lookups are faster once the\n",
    "    # size of the object becomes large\n",
    "    relevant = {p: 1 for p in patterns if patterns[p] >= clumpsize}\n",
    "\n",
    "    starting_string = genome[0:kmer]\n",
    "\n",
    "    for i in range(windowsize, len(genome)):\n",
    "        # Move the window along one character\n",
    "        window = window[1:]\n",
    "        window += genome[i]\n",
    "\n",
    "        # This is the only string that can decrease if we've moved one\n",
    "        # character\n",
    "        patterns[starting_string] -= 1\n",
    "        starting_string = window[0:kmer]\n",
    "\n",
    "        # This is the only string that can increase if we've moved one\n",
    "        # character\n",
    "        ending_string = window[-kmer:]\n",
    "        patterns[ending_string] += 1\n",
    "\n",
    "        # if there are enough matches of the string at the end, add it to\n",
    "        # matches.\n",
    "        if patterns[ending_string] >= clumpsize and ending_string not in relevant:\n",
    "            relevant[ending_string] = 1\n",
    "\n",
    "    return list(relevant)\n",
    "\n",
    "\n",
    "if __name__ == \"__main__\":\n",
    "    clumps = find_clumps(genome, kmer, windowsize, min_clumpsize)\n",
    "    print(\"Total: {}\".format(len(clumps)))"
   ]
  },
  {
   "cell_type": "markdown",
   "metadata": {},
   "source": []
  }
 ],
 "metadata": {
  "kernelspec": {
   "display_name": "Python 2",
   "language": "python",
   "name": "python2"
  },
  "language_info": {
   "codemirror_mode": {
    "name": "ipython",
    "version": 2
   },
   "file_extension": ".py",
   "mimetype": "text/x-python",
   "name": "python",
   "nbconvert_exporter": "python",
   "pygments_lexer": "ipython2",
   "version": "2.7.13"
  }
 },
 "nbformat": 4,
 "nbformat_minor": 2
}
