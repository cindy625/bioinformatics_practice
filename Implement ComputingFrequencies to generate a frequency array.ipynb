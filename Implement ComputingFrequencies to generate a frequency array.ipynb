{
 "cells": [
  {
   "cell_type": "code",
   "execution_count": 5,
   "metadata": {
    "collapsed": true
   },
   "outputs": [],
   "source": [
    "import math\n",
    "\"\"\"\n",
    "Clump Finding Problem: Find patterns forming clumps in a string.\n",
    "We aspire to slide a window down the entire Genome string only once. As we slide\n",
    "this window, we will keep track of the number of times that each k-mer Pattern\n",
    "has already appeared in Text, updating these numbers as we proceed in a\n",
    "Frequency array\n",
    "Our plan is to slide a window of fixed length L along the genome, looking for a region\n",
    "where a k-mer appears several times in short succession. The parameter value L = 500\n",
    "reflects the typical length of ori in bacterial genomes.\n",
    "We defined a k-mer as a \"clump\" if it appears many times within a short interval of the\n",
    "genome. More formally, given integers L and t, a k-mer Pattern forms an\n",
    "(L, t)-clump\n",
    "inside a (longer) string Genome if there is an interval of Genome of length L in\n",
    "which this k-mer appears at least t times. (This definition assumes that the k-mer\n",
    "completely fits within the interval.)\n",
    "1. Order all 4^k k-mers lexicographically(like how they would be ordered in a dictionary)\n",
    "ex with k = 2: AA AC AG AT CA CC CG CT GA GC GG GT TA TC TG TT\n",
    "2. PatternToIndex(Pattern)\n",
    "Treat DNA strings as numbers in base 4, where A = 0, C = 1, G = 2, T = 3\n",
    "Then convert base 4 DNA pattern to base 10 in order to assign each pattern\n",
    "an index in the frequency array\n",
    "ex with k = 2: AA AC AG AT CA CC CG CT GA GC GG GT TA TC TG TT\n",
    "base4(pattern) 00 01 02 03 10 11 12 13 20 21 22 23 30 31 32 33\n",
    "base10(index)  0  1  2  3  4  5  6  7  8  9  10 11 12 13 14 15\n",
    "Code Challenge: Implement PatternToIndex\n",
    "     Input: A DNA string Pattern\n",
    "     ex: AGT\n",
    "     Output: The index within the genome\n",
    "     ex: 11\n",
    "\"\"\"\n",
    "\n",
    "def LetterToNumber(Letter):\n",
    "    if Letter == 'A':\n",
    "        return 0\n",
    "    elif Letter == 'C':\n",
    "        return 1\n",
    "    elif Letter == 'G':\n",
    "        return 2\n",
    "    elif Letter == 'T':\n",
    "        return 3\n",
    "    else:\n",
    "        return \"INVALID\"\n",
    "\n",
    "def PatternToIndex(Pattern):\n",
    "    Base10 = 0\n",
    "    PatternInput = list(Pattern)\n",
    "    PatternToBase4 = []\n",
    "    for Letter in PatternInput:\n",
    "        PatternToBase4.append(LetterToNumber(Letter))\n",
    "    PatternToBase4.reverse()\n",
    "    for index, value in enumerate(PatternToBase4):\n",
    "        Base10 += value * 4**index\n",
    "    return Base10\n",
    "\n",
    "# print(PatternToIndex('CCAGA'))\n",
    "\n",
    "\"\"\"\n",
    "CODE CHALLENGE: Implement FrequencyIndexToPattern\n",
    "     Input: Integers index and k.\n",
    "     Output: The string NumberToPattern(index, k).\n",
    "\"\"\"\n",
    "\n",
    "def NumberToLetter(number):\n",
    "    if number == 0:\n",
    "        return 'A'\n",
    "    elif number == 1:\n",
    "        return 'C'\n",
    "    elif number == 2:\n",
    "        return 'G'\n",
    "    elif number == 3:\n",
    "        return 'T'\n",
    "    else:\n",
    "        return \"INVALID\"\n",
    "\n",
    "def IndexToPattern(index, k):\n",
    "    numbers = []\n",
    "    letters = []\n",
    "    quotient = index\n",
    "    while (quotient > 0):\n",
    "        remainder = quotient % 4\n",
    "        numbers.append(remainder)\n",
    "        quotient = math.floor(quotient / 4)\n",
    "    if (quotient != 0):\n",
    "        numbers = numbers + [quotient]\n",
    "    numbers.reverse()\n",
    "    while (len(numbers) < k):\n",
    "        numbers = [0] + numbers\n",
    "    for number in numbers:\n",
    "        letters.append(NumberToLetter(number))\n",
    "    DNA = ''.join(letters)\n",
    "    return DNA\n",
    "\n",
    "# print(IndexToPattern(5437, 8))\n",
    "\n",
    "\"\"\"\n",
    "Code Challenge: Implement ComputingFrequencies to generate a frequency array.\n",
    "    Input: A DNA string Text followed by an integer k.\n",
    "    Output: FrequencyArray(Text).\n",
    "\"\"\"\n",
    "def ComputingFrequencies(Text, k):\n",
    "    frequency = []\n",
    "    for i in range(0, 4**k):\n",
    "        frequency.append(0)\n",
    "    for i in range(0, (len(Text) - (k-1))):\n",
    "        currentPattern = Text[i:i+k]\n",
    "        index = PatternToIndex(currentPattern)\n",
    "        frequency[index] += 1\n",
    "    result = ' '.join(str(number) for number in frequency)\n",
    "    return result"
   ]
  },
  {
   "cell_type": "code",
   "execution_count": 14,
   "metadata": {
    "collapsed": true
   },
   "outputs": [],
   "source": [
    "Text = 'ACGCGGCTCTGAAA'\n",
    "k = 2"
   ]
  },
  {
   "cell_type": "code",
   "execution_count": 16,
   "metadata": {
    "collapsed": false
   },
   "outputs": [
    {
     "name": "stdout",
     "output_type": "stream",
     "text": [
      "2 1 0 0 0 0 2 2 1 2 1 0 0 1 1 0\n"
     ]
    }
   ],
   "source": [
    "print (ComputingFrequencies(Text, k))"
   ]
  },
  {
   "cell_type": "code",
   "execution_count": 17,
   "metadata": {
    "collapsed": false
   },
   "outputs": [
    {
     "data": {
      "text/plain": [
       "'\\nPseudocode to find clumps of k-mers w/in the entire genome\\ndef ClumpFinding(Genome, k, t, L):\\n    clumps = set()\\n    for i \\xe2\\x86\\x90 0 to 4k \\xe2\\x88\\x92 1\\n        Clump(i) \\xe2\\x86\\x90 0\\n    Text \\xe2\\x86\\x90 Genome(0, L)\\n    FrequencyArray \\xe2\\x86\\x90 ComputingFrequencies(Text, k)\\n    for i \\xe2\\x86\\x90 0 to 4k \\xe2\\x88\\x92 1\\n        if FrequencyArray(i) \\xe2\\x89\\xa5 t\\n            Clump(i) \\xe2\\x86\\x90 1\\n    for i \\xe2\\x86\\x90 1 to |Genome| \\xe2\\x88\\x92 L\\n        FirstPattern \\xe2\\x86\\x90 Genome(i \\xe2\\x88\\x92 1, k)\\n        index \\xe2\\x86\\x90 PatternToNumber(FirstPattern)\\n        FrequencyArray(index) \\xe2\\x86\\x90 FrequencyArray(index) \\xe2\\x88\\x92 1\\n        LastPattern \\xe2\\x86\\x90 Genome(i + L \\xe2\\x88\\x92 k, k)\\n        index \\xe2\\x86\\x90 PatternToNumber(LastPattern)\\n        FrequencyArray(index) \\xe2\\x86\\x90 FrequencyArray(index) + 1\\n        if FrequencyArray(index) \\xe2\\x89\\xa5 t\\n            Clump(index) \\xe2\\x86\\x90 1\\n    for i \\xe2\\x86\\x90 0 to 4k \\xe2\\x88\\x92 1\\n        if Clump(i) = 1\\n            Pattern \\xe2\\x86\\x90 NumberToPattern(i, k)\\n            add Pattern to the set FrequentPatterns\\n    return FrequentPatterns\\n'"
      ]
     },
     "execution_count": 17,
     "metadata": {},
     "output_type": "execute_result"
    }
   ],
   "source": [
    "\"\"\"\n",
    "Pseudocode to find clumps of k-mers w/in the entire genome\n",
    "def ClumpFinding(Genome, k, t, L):\n",
    "    clumps = set()\n",
    "    for i ← 0 to 4k − 1\n",
    "        Clump(i) ← 0\n",
    "    Text ← Genome(0, L)\n",
    "    FrequencyArray ← ComputingFrequencies(Text, k)\n",
    "    for i ← 0 to 4k − 1\n",
    "        if FrequencyArray(i) ≥ t\n",
    "            Clump(i) ← 1\n",
    "    for i ← 1 to |Genome| − L\n",
    "        FirstPattern ← Genome(i − 1, k)\n",
    "        index ← PatternToNumber(FirstPattern)\n",
    "        FrequencyArray(index) ← FrequencyArray(index) − 1\n",
    "        LastPattern ← Genome(i + L − k, k)\n",
    "        index ← PatternToNumber(LastPattern)\n",
    "        FrequencyArray(index) ← FrequencyArray(index) + 1\n",
    "        if FrequencyArray(index) ≥ t\n",
    "            Clump(index) ← 1\n",
    "    for i ← 0 to 4k − 1\n",
    "        if Clump(i) = 1\n",
    "            Pattern ← NumberToPattern(i, k)\n",
    "            add Pattern to the set FrequentPatterns\n",
    "    return FrequentPatterns\n",
    "\"\"\""
   ]
  },
  {
   "cell_type": "code",
   "execution_count": null,
   "metadata": {
    "collapsed": true
   },
   "outputs": [],
   "source": []
  }
 ],
 "metadata": {
  "kernelspec": {
   "display_name": "Python 2",
   "language": "python",
   "name": "python2"
  },
  "language_info": {
   "codemirror_mode": {
    "name": "ipython",
    "version": 2
   },
   "file_extension": ".py",
   "mimetype": "text/x-python",
   "name": "python",
   "nbconvert_exporter": "python",
   "pygments_lexer": "ipython2",
   "version": "2.7.13"
  }
 },
 "nbformat": 4,
 "nbformat_minor": 2
}
